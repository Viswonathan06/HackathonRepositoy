{
 "cells": [
  {
   "cell_type": "code",
   "execution_count": 2,
   "metadata": {},
   "outputs": [
    {
     "name": "stderr",
     "output_type": "stream",
     "text": [
      "2024-03-18 21:01:08,369 - INFO - /Users/viswonathanmanoranjan/Documents/GitHub/delphinium/code/Backend/algo/ai_voice_det/saved/ShallowCNN_lfcc_I\n",
      "2024-03-18 21:01:08,371 - INFO - Restoring from /Users/viswonathanmanoranjan/Documents/GitHub/delphinium/code/Backend/algo/ai_voice_det/saved/ShallowCNN_lfcc_I/best.pt\n",
      "2024-03-18 21:01:08,392 - INFO - Batch size: 128, seed: None, epochs: 20\n",
      "2024-03-18 21:01:08,392 - INFO - Evaluating model: ShallowCNN\n",
      "2024-03-18 21:01:08,393 - INFO - Input feature : lfcc\n",
      "2024-03-18 21:01:08,394 - INFO - Model kwargs  : {\n",
      "  \"in_features\": 1,\n",
      "  \"out_dim\": 1,\n",
      "  \"device\": \"cpu\"\n",
      "}\n"
     ]
    },
    {
     "name": "stdout",
     "output_type": "stream",
     "text": [
      "['/Users/viswonathanmanoranjan/Documents/GitHub/delphinium/code/Backend', '/Users/viswonathanmanoranjan/.vscode/extensions/ms-toolsai.jupyter-2022.11.1003412109/pythonFiles', '/Users/viswonathanmanoranjan/.vscode/extensions/ms-toolsai.jupyter-2022.11.1003412109/pythonFiles/lib/python', '/Library/Frameworks/Python.framework/Versions/3.10/lib/python310.zip', '/Library/Frameworks/Python.framework/Versions/3.10/lib/python3.10', '/Library/Frameworks/Python.framework/Versions/3.10/lib/python3.10/lib-dynload', '', '/Users/viswonathanmanoranjan/Library/Python/3.10/lib/python/site-packages', '/Library/Frameworks/Python.framework/Versions/3.10/lib/python3.10/site-packages', '/Users/viswonathanmanoranjan/Documents/GitHub/delphinium/code/Backend/algo/ai_voice_det', '/Users/viswonathanmanoranjan/Documents/GitHub/delphinium/code/Backend/algo/ai_voice_det']\n",
      "/Users/viswonathanmanoranjan/Documents/GitHub/delphinium/code/Backend/algo/ai_voice_det/samples/real\n",
      "Starting : ShallowCNN_lfcc_I\n"
     ]
    },
    {
     "ename": "AssertionError",
     "evalue": "",
     "output_type": "error",
     "traceback": [
      "\u001b[0;31m---------------------------------------------------------------------------\u001b[0m",
      "\u001b[0;31mAssertionError\u001b[0m                            Traceback (most recent call last)",
      "Cell \u001b[0;32mIn[2], line 35\u001b[0m\n\u001b[1;32m     33\u001b[0m eval_only\u001b[39m=\u001b[39m\u001b[39mTrue\u001b[39;00m\n\u001b[1;32m     34\u001b[0m \u001b[39mprint\u001b[39m(\u001b[39m\"\u001b[39m\u001b[39mStarting :\u001b[39m\u001b[39m\"\u001b[39m, exp_name)\n\u001b[0;32m---> 35\u001b[0m results \u001b[39m=\u001b[39m ADFD\u001b[39m.\u001b[39;49mexperiment(\n\u001b[1;32m     36\u001b[0m             name\u001b[39m=\u001b[39;49mexp_name,\n\u001b[1;32m     37\u001b[0m             path_to_file\u001b[39m=\u001b[39;49mpath_to_file_directory,\n\u001b[1;32m     38\u001b[0m             model_dir\u001b[39m=\u001b[39;49mhome_path\u001b[39m+\u001b[39;49m\u001b[39m\"\u001b[39;49m\u001b[39m/ai_voice_det/saved\u001b[39;49m\u001b[39m\"\u001b[39;49m,\n\u001b[1;32m     39\u001b[0m             epochs\u001b[39m=\u001b[39;49mepochs,\n\u001b[1;32m     40\u001b[0m             batch_size\u001b[39m=\u001b[39;49mbatch_size,\n\u001b[1;32m     41\u001b[0m             feature_classname\u001b[39m=\u001b[39;49mfeature_classname,\n\u001b[1;32m     42\u001b[0m             model_classname\u001b[39m=\u001b[39;49mmodel_classname,\n\u001b[1;32m     43\u001b[0m             in_distribution\u001b[39m=\u001b[39;49min_distribution,\n\u001b[1;32m     44\u001b[0m             device\u001b[39m=\u001b[39;49mdevice,\n\u001b[1;32m     45\u001b[0m             seed\u001b[39m=\u001b[39;49mseed \u001b[39mif\u001b[39;49;00m deterministic \u001b[39melse\u001b[39;49;00m \u001b[39mNone\u001b[39;49;00m,\n\u001b[1;32m     46\u001b[0m             amount_to_use\u001b[39m=\u001b[39;49m\u001b[39m160\u001b[39;49m \u001b[39mif\u001b[39;49;00m debug \u001b[39melse\u001b[39;49;00m \u001b[39mNone\u001b[39;49;00m,\n\u001b[1;32m     47\u001b[0m             restore\u001b[39m=\u001b[39;49mrestore,\n\u001b[1;32m     48\u001b[0m             evaluate_only\u001b[39m=\u001b[39;49meval_only,\n\u001b[1;32m     49\u001b[0m         )\n",
      "File \u001b[0;32m~/Documents/GitHub/delphinium/code/Backend/algo/ai_voice_det/train.py:333\u001b[0m, in \u001b[0;36mexperiment\u001b[0;34m(name, path_to_file, model_dir, epochs, batch_size, feature_classname, model_classname, in_distribution, device, seed, amount_to_use, restore, evaluate_only, **kwargs)\u001b[0m\n\u001b[1;32m    330\u001b[0m LOGGER\u001b[39m.\u001b[39minfo(\u001b[39mf\u001b[39m\u001b[39m\"\u001b[39m\u001b[39mBatch size: \u001b[39m\u001b[39m{\u001b[39;00mbatch_size\u001b[39m}\u001b[39;00m\u001b[39m, seed: \u001b[39m\u001b[39m{\u001b[39;00mseed\u001b[39m}\u001b[39;00m\u001b[39m, epochs: \u001b[39m\u001b[39m{\u001b[39;00mepochs\u001b[39m}\u001b[39;00m\u001b[39m\"\u001b[39m)\n\u001b[1;32m    332\u001b[0m \u001b[39mif\u001b[39;00m evaluate_only:\n\u001b[0;32m--> 333\u001b[0m     results, confidence_scores \u001b[39m=\u001b[39m eval_only(\n\u001b[1;32m    334\u001b[0m         real_dir\u001b[39m=\u001b[39;49mpath_to_file,\n\u001b[1;32m    335\u001b[0m         fake_dir\u001b[39m=\u001b[39;49mfake_dir,\n\u001b[1;32m    336\u001b[0m         amount_to_use\u001b[39m=\u001b[39;49mamount_to_use,\n\u001b[1;32m    337\u001b[0m         epochs\u001b[39m=\u001b[39;49mepochs,\n\u001b[1;32m    338\u001b[0m         device\u001b[39m=\u001b[39;49mdevice,\n\u001b[1;32m    339\u001b[0m         batch_size\u001b[39m=\u001b[39;49mbatch_size,\n\u001b[1;32m    340\u001b[0m         save_dir\u001b[39m=\u001b[39;49msave_dir,\n\u001b[1;32m    341\u001b[0m         feature_classname\u001b[39m=\u001b[39;49mfeature_classname,\n\u001b[1;32m    342\u001b[0m         model_classname\u001b[39m=\u001b[39;49mmodel_classname,\n\u001b[1;32m    343\u001b[0m         in_distribution\u001b[39m=\u001b[39;49min_distribution,\n\u001b[1;32m    344\u001b[0m         checkpoint\u001b[39m=\u001b[39;49mckpt,\n\u001b[1;32m    345\u001b[0m     )\n\u001b[1;32m    346\u001b[0m     results \u001b[39m=\u001b[39m [tensor\u001b[39m.\u001b[39mitem() \u001b[39mfor\u001b[39;00m tensor \u001b[39min\u001b[39;00m results[\u001b[39m0\u001b[39m]]\n\u001b[1;32m    347\u001b[0m     confidence_scores \u001b[39m=\u001b[39m [tensor\u001b[39m.\u001b[39mitem() \u001b[39mfor\u001b[39;00m tensor \u001b[39min\u001b[39;00m confidence_scores[\u001b[39m0\u001b[39m]]\n",
      "File \u001b[0;32m~/Documents/GitHub/delphinium/code/Backend/algo/ai_voice_det/train.py:244\u001b[0m, in \u001b[0;36meval_only\u001b[0;34m(real_dir, fake_dir, amount_to_use, epochs, device, batch_size, save_dir, test_size, feature_classname, model_classname, in_distribution, checkpoint)\u001b[0m\n\u001b[1;32m    242\u001b[0m real_dir \u001b[39m=\u001b[39m Path(real_dir)\n\u001b[1;32m    243\u001b[0m fake_dir \u001b[39m=\u001b[39m Path(fake_dir)\n\u001b[0;32m--> 244\u001b[0m \u001b[39massert\u001b[39;00m real_dir\u001b[39m.\u001b[39mis_dir()\n\u001b[1;32m    245\u001b[0m \u001b[39massert\u001b[39;00m fake_dir\u001b[39m.\u001b[39mis_dir()\n\u001b[1;32m    247\u001b[0m LOGGER\u001b[39m.\u001b[39minfo(\u001b[39m\"\u001b[39m\u001b[39mLoading data...\u001b[39m\u001b[39m\"\u001b[39m)\n",
      "\u001b[0;31mAssertionError\u001b[0m: "
     ]
    }
   ],
   "source": [
    "\n",
    "import sys, os\n",
    "from pathlib import Path\n",
    "home_path = os.path.join(os.getcwd())\n",
    "sys.path.append(home_path+\"/algo/ai_voice_det\")\n",
    "print(sys.path)\n",
    "from pathlib import Path\n",
    "from algo.ai_voice_det import train as ADFD\n",
    "\n",
    "path_to_file_directory = (home_path+'/data')\n",
    "\n",
    "print(path_to_file_directory)\n",
    "\n",
    "#constants\n",
    "feature_classname=\"lfcc\"\n",
    "model_classname=\"ShallowCNN\"\n",
    "in_distribution = True\n",
    "exp_setup = \"O\"\n",
    "if in_distribution:\n",
    "    exp_setup = \"I\" \n",
    "exp_name = f\"{model_classname}_{feature_classname}_{exp_setup}\"\n",
    "name=exp_name\n",
    "epochs=20\n",
    "batch_size=128\n",
    "debug = False\n",
    "device=\"cpu\"\n",
    "seed = None\n",
    "\n",
    "amount_to_use = None\n",
    "deterministic = False\n",
    "\n",
    "\n",
    "restore=True\n",
    "eval_only=True\n",
    "print(\"Starting :\", exp_name)\n",
    "results = ADFD.experiment(\n",
    "            name=exp_name,\n",
    "            path_to_file=path_to_file_directory,\n",
    "            model_dir=home_path+\"algo/ai_voice_det/saved\",\n",
    "            epochs=epochs,\n",
    "            batch_size=batch_size,\n",
    "            feature_classname=feature_classname,\n",
    "            model_classname=model_classname,\n",
    "            in_distribution=in_distribution,\n",
    "            device=device,\n",
    "            seed=seed if deterministic else None,\n",
    "            amount_to_use=160 if debug else None,\n",
    "            restore=restore,\n",
    "            evaluate_only=eval_only,\n",
    "        )"
   ]
  },
  {
   "cell_type": "code",
   "execution_count": 1,
   "metadata": {},
   "outputs": [
    {
     "name": "stdout",
     "output_type": "stream",
     "text": [
      "Speech recognition done\n"
     ]
    },
    {
     "data": {
      "text/plain": [
       "True"
      ]
     },
     "execution_count": 1,
     "metadata": {},
     "output_type": "execute_result"
    }
   ],
   "source": [
    "import algo.VoiceCheck as vc\n",
    "vc.checkIfVoice(\"../Backend/data/LJ040-0165_gen.wav\")"
   ]
  },
  {
   "cell_type": "code",
   "execution_count": null,
   "metadata": {},
   "outputs": [],
   "source": []
  }
 ],
 "metadata": {
  "kernelspec": {
   "display_name": "Python 3",
   "language": "python",
   "name": "python3"
  },
  "language_info": {
   "codemirror_mode": {
    "name": "ipython",
    "version": 3
   },
   "file_extension": ".py",
   "mimetype": "text/x-python",
   "name": "python",
   "nbconvert_exporter": "python",
   "pygments_lexer": "ipython3",
   "version": "3.10.9"
  },
  "orig_nbformat": 4,
  "vscode": {
   "interpreter": {
    "hash": "aee8b7b246df8f9039afb4144a1f6fd8d2ca17a180786b69acc140d282b71a49"
   }
  }
 },
 "nbformat": 4,
 "nbformat_minor": 2
}
